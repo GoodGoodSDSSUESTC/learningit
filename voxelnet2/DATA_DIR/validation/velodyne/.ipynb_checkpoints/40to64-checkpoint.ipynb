{
 "cells": [
  {
   "cell_type": "code",
   "execution_count": 5,
   "metadata": {},
   "outputs": [],
   "source": [
    "import glob\n",
    "import numpy as np"
   ]
  },
  {
   "cell_type": "code",
   "execution_count": 3,
   "metadata": {},
   "outputs": [],
   "source": [
    "paths = glob.glob('./*.bin')"
   ]
  },
  {
   "cell_type": "code",
   "execution_count": 4,
   "metadata": {},
   "outputs": [
    {
     "data": {
      "text/plain": [
       "['./000002.bin', './000000.bin', './000001.bin']"
      ]
     },
     "execution_count": 4,
     "metadata": {},
     "output_type": "execute_result"
    }
   ],
   "source": [
    "paths"
   ]
  },
  {
   "cell_type": "code",
   "execution_count": 15,
   "metadata": {},
   "outputs": [
    {
     "data": {
      "text/plain": [
       "'000002'"
      ]
     },
     "execution_count": 15,
     "metadata": {},
     "output_type": "execute_result"
    }
   ],
   "source": [
    "'./000002.bin'.split('.')[1][1:]"
   ]
  },
  {
   "cell_type": "code",
   "execution_count": 17,
   "metadata": {},
   "outputs": [],
   "source": [
    "#output_name = PC_ROOT + frame + '.bin'\n",
    "for i,path in enumerate(paths):\n",
    "    points = np.fromfile(path, dtype=np.float32).reshape(-1, 4)\n",
    "    points[:,3] /= 1.6\n",
    "    output_name = '{}_{}.bin'.format(path.split('.')[1][1:],i)\n",
    "    points[:,:4].astype('float32').tofile(output_name)"
   ]
  },
  {
   "cell_type": "code",
   "execution_count": 10,
   "metadata": {},
   "outputs": [
    {
     "data": {
      "text/plain": [
       "array([[-3.3009804e+01,  2.0164544e-02,  4.2005491e+00,  1.2000000e+01],\n",
       "       [-3.2092049e+01,  1.9603919e-02,  3.5152183e+00,  8.0000000e+00],\n",
       "       [-3.2885719e+01,  1.9514780e-02,  3.0188797e+00,  1.5000000e+01],\n",
       "       ...,\n",
       "       [-6.5752645e+00, -3.1422228e-01, -1.6066536e+00,  7.0000000e+00],\n",
       "       [-6.1498990e+00, -2.9357195e-01, -1.6102953e+00,  1.1000000e+01],\n",
       "       [-5.8035655e+00, -2.7683631e-01, -1.6208061e+00,  1.2000000e+01]],\n",
       "      dtype=float32)"
      ]
     },
     "execution_count": 10,
     "metadata": {},
     "output_type": "execute_result"
    }
   ],
   "source": [
    "points"
   ]
  },
  {
   "cell_type": "code",
   "execution_count": 12,
   "metadata": {},
   "outputs": [
    {
     "data": {
      "text/plain": [
       "array([[-2.0631126e+01,  1.2602840e-02,  2.6253431e+00,  7.5000000e+00],\n",
       "       [-2.0057529e+01,  1.2252449e-02,  2.1970115e+00,  5.0000000e+00],\n",
       "       [-2.0553574e+01,  1.2196737e-02,  1.8867998e+00,  9.3750000e+00],\n",
       "       ...,\n",
       "       [-4.1095400e+00, -1.9638892e-01, -1.0041585e+00,  4.3750000e+00],\n",
       "       [-3.8436868e+00, -1.8348247e-01, -1.0064346e+00,  6.8750000e+00],\n",
       "       [-3.6272285e+00, -1.7302269e-01, -1.0130038e+00,  7.5000000e+00]],\n",
       "      dtype=float32)"
      ]
     },
     "execution_count": 12,
     "metadata": {},
     "output_type": "execute_result"
    }
   ],
   "source": [
    "points"
   ]
  },
  {
   "cell_type": "code",
   "execution_count": null,
   "metadata": {},
   "outputs": [],
   "source": []
  }
 ],
 "metadata": {
  "kernelspec": {
   "display_name": "Python 3",
   "language": "python",
   "name": "python3"
  },
  "language_info": {
   "codemirror_mode": {
    "name": "ipython",
    "version": 3
   },
   "file_extension": ".py",
   "mimetype": "text/x-python",
   "name": "python",
   "nbconvert_exporter": "python",
   "pygments_lexer": "ipython3",
   "version": "3.6.5"
  }
 },
 "nbformat": 4,
 "nbformat_minor": 2
}
